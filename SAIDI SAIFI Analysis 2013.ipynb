{
 "metadata": {
  "name": "",
  "signature": "sha256:39d92c04b29270cb0fa877f1fb49706c599ee8ec1c9a651afd7b2729540a8ec5"
 },
 "nbformat": 3,
 "nbformat_minor": 0,
 "worksheets": [
  {
   "cells": [
    {
     "cell_type": "markdown",
     "metadata": {},
     "source": [
      "This notebook outlines the data-crunching I did to take the 2013 grid reliability from the EIA for [this Inside Energy story](). (This is my first time using IPython Notebook and pandas, and I'm a newbie to programming in general, so please forgive my ugly code!) \n",
      "\n",
      "If you have any questions about the methods or the data, email me at jordanwb@insideenergy.org.\n",
      "\n",
      "A few notes:\n",
      "* You can download the raw data from the EIA [here](http://www.eia.gov/electricity/data/eia861/).\n",
      "* Some utilities report SAIDI and SAIFI using IEEE definitions, and some don't. For this analysis, they were compared together. For a discussion on how use of the IEEE standard may bias reporting, see [this paper](http://certs.lbl.gov/pdf/lbnl-5268e.pdf).\n",
      "* Most utilities reported SAIDI and SAIFI both with and without major event days (MED). However, utilities that only reported SAIFI with MEDs were excluded from the SAIFI without MEDs calculations, and vice versa.\n",
      "* Null values were removed, but zeros weren't. In some cases, there is a chance that a utility reported a 0 instead of a null value, but because there was no way to determine if this was an error, 0 values were included."
     ]
    },
    {
     "cell_type": "code",
     "collapsed": false,
     "input": [
      "%matplotlib inline\n",
      "import pandas as pd\n",
      "import numpy as np\n",
      "import matplotlib\n",
      "matplotlib.use('svg')\n",
      "import matplotlib.pylab as plt\n",
      "from IPython.display import Image, SVG"
     ],
     "language": "python",
     "metadata": {},
     "outputs": [],
     "prompt_number": 2
    },
    {
     "cell_type": "code",
     "collapsed": false,
     "input": [
      "# Import original data file for 2013 grid reliability data [downloaded from EIA](http://www.eia.gov/electricity/data/eia861/)\n",
      "df1 = pd.io.excel.read_excel('../DataOriginals/f8612013/Reliability_2013.xls', 'RELIABILITY_States', skiprows=1, na_values=\".\")"
     ],
     "language": "python",
     "metadata": {},
     "outputs": [],
     "prompt_number": 55
    },
    {
     "cell_type": "code",
     "collapsed": false,
     "input": [
      "#Select non-null values for SAIDI With MED (from both IEEE and non-IEEE utilities)\n",
      "df_SAIDI_wm_1 = df1[np.isfinite(df1['SAIDI With MED'])]\n",
      "df_SAIDI_wm_2 = df1[np.isfinite(df1['SAIDI With MED.1'])]\n",
      "#Create a single data frame\n",
      "df_SAIDI_With_Med = df_SAIDI_wm_1.append(df_SAIDI_wm_2)\n",
      "#Change null values to 0 and turn SAIDI With MED, Customers into a single column\n",
      "df_SAIDI_With_Med = df_SAIDI_With_Med.fillna(0)\n",
      "df_SAIDI_With_Med['SAIDI_WM'] = df_SAIDI_With_Med['SAIDI With MED'] + df_SAIDI_With_Med['SAIDI With MED.1']\n",
      "df_SAIDI_With_Med['Customers'] = df_SAIDI_With_Med['Number of Customers'] + df_SAIDI_With_Med['Number of Customers.1']\n",
      "#Create a dataframe that only has the columns we need\n",
      "SAIDI_With_Med = df_SAIDI_With_Med[['Utility Name', 'State', 'SAIDI_WM', 'Customers']]\n",
      "\n",
      "#Select non-null values for SAIDI Without MED (from both IEEE and non-IEEE utilities)\n",
      "df_SAIDI_wom_1 = df1[np.isfinite(df1['SAIDI Without MED'])]\n",
      "df_SAIDI_wom_2 = df1[np.isfinite(df1['SAIDI Without MED.1'])]\n",
      "#Create a single data frame\n",
      "df_SAIDI_Without_Med = df_SAIDI_wom_1.append(df_SAIDI_wom_2)\n",
      "#Change null values to 0 and turn SAIDI With MED, Customers into a single column\n",
      "df_SAIDI_Without_Med = df_SAIDI_Without_Med.fillna(0)\n",
      "df_SAIDI_Without_Med['SAIDI_WOM'] = df_SAIDI_Without_Med['SAIDI Without MED'] + df_SAIDI_Without_Med['SAIDI Without MED.1']\n",
      "df_SAIDI_Without_Med['Customers'] = df_SAIDI_Without_Med['Number of Customers'] + df_SAIDI_Without_Med['Number of Customers.1']\n",
      "#Create a dataframe that only has the columns we need\n",
      "SAIDI_Without_Med = df_SAIDI_Without_Med[['Utility Name', 'State', 'SAIDI_WOM', 'Customers']]"
     ],
     "language": "python",
     "metadata": {},
     "outputs": [],
     "prompt_number": 144
    },
    {
     "cell_type": "code",
     "collapsed": false,
     "input": [
      "#Export as utility-level SAIDI data as Excel files\n",
      "SAIDI_Without_Med.to_excel(\"SAIDI_Without_Med.xlsx\")\n",
      "SAIDI_With_Med.to_excel(\"SAIDI_With_Med.xlsx\")"
     ],
     "language": "python",
     "metadata": {},
     "outputs": [],
     "prompt_number": 153
    },
    {
     "cell_type": "code",
     "collapsed": false,
     "input": [
      "#Calculated total interruption time so can compute summary SAIDI values\n",
      "SAIDI_With_Med['TotalInterruption'] = df_SAIDI_With_Med['SAIDI_WM'] * df_SAIDI_With_Med['Customers']\n",
      "SAIDI_Without_Med['TotalInterruption'] = df_SAIDI_Without_Med['SAIDI_WOM'] * df_SAIDI_Without_Med['Customers']"
     ],
     "language": "python",
     "metadata": {},
     "outputs": [],
     "prompt_number": 169
    },
    {
     "cell_type": "code",
     "collapsed": false,
     "input": [
      "TotalInterruption_With_Med = SAIDI_With_Med['TotalInterruption'].sum\n",
      "TotalInterruption_Without_Med = SAIDI_Without_Med['TotalInterruption'].sum"
     ],
     "language": "python",
     "metadata": {},
     "outputs": [],
     "prompt_number": 160
    },
    {
     "cell_type": "code",
     "collapsed": false,
     "input": [
      "#This was some code to add a numeric index that I could use to make a plot -- don't need it anymore!\n",
      "#State_Codes = df2['State'].unique()\n",
      "#State_Codes.sort()\n",
      "#s = pd.Series(range(0,52), index=State_Codes)"
     ],
     "language": "python",
     "metadata": {},
     "outputs": [],
     "prompt_number": 173
    },
    {
     "cell_type": "code",
     "collapsed": false,
     "input": [
      "#Aggregate SAIDI with and without major event days by state\n",
      "grouped_SAIDI_With_Med = SAIDI_With_Med.groupby('State').aggregate(np.sum)\n",
      "grouped_SAIDI_With_Med['StateSAIDIWithMED'] = grouped_SAIDI_With_Med['TotalInterruption'] / grouped_SAIDI_With_Med['Customers']\n",
      "\n",
      "grouped_SAIDI_Without_Med = SAIDI_Without_Med.groupby('State').aggregate(np.sum)\n",
      "grouped_SAIDI_Without_Med['StateSAIDIWithoutMED'] = grouped_SAIDI_Without_Med['TotalInterruption'] / grouped_SAIDI_Without_Med['Customers']"
     ],
     "language": "python",
     "metadata": {},
     "outputs": [],
     "prompt_number": 174
    },
    {
     "cell_type": "code",
     "collapsed": false,
     "input": [
      "#Export data frames as Excel files (note -- need Excel files to do visualization in Tableau)\n",
      "SAIDI_With_Med.to_excel(\"utils_2013_SAIDI_with_med.xlsx\")\n",
      "grouped_SAIDI_With_Med.to_excel(\"states_2013_SAIDI_with_med.xlsx\")\n",
      "SAIDI_Without_Med.to_excel(\"utils_2013_SAIDI_without_med.xlsx\")\n",
      "grouped_SAIDI_Without_Med.to_excel(\"states_2013_SAIDI_without_med.xlsx\")\n",
      "\n",
      "#Export data frames as CSV files\n",
      "SAIDI_With_Med.to_csv(\"utils_2013_SAIDI_with_med.csv\")\n",
      "grouped_SAIDI_With_Med.to_csv(\"states_2013_SAIDI_with_med.csv\")\n",
      "SAIDI_Without_Med.to_csv(\"utils_2013_SAIDI_without_med.csv\")\n",
      "grouped_SAIDI_Without_Med.to_csv(\"states_2013_SAIDI_without_med.csv\")"
     ],
     "language": "python",
     "metadata": {},
     "outputs": [],
     "prompt_number": 180
    },
    {
     "cell_type": "code",
     "collapsed": false,
     "input": [
      "#Playing with plotting a little bit\n",
      "bp = SAIDI_With_Med.boxplot(column='SAIDI_WM', by='State', grid=False)"
     ],
     "language": "python",
     "metadata": {},
     "outputs": [
      {
       "metadata": {},
       "output_type": "display_data",
       "png": "[encoded data removed]",
       "text": [
        "<matplotlib.figure.Figure at 0x10a69d690>"
       ]
      }
     ],
     "prompt_number": 181
    },
    {
     "cell_type": "code",
     "collapsed": false,
     "input": [
      "#Plot state values -- TODO add state ID back in!\n",
      "#plt.plot(s[df2['State']], df2['SAIDI'], 'r.', alpha=0.2)\n",
      "#plt.plot(s[grouped.index], grouped['StateSAIDIWithMED'], 'b.')\n",
      "#plt.yscale('log')\n",
      "\n",
      "#plt.savefig(\"test.svg\")\n",
      "#SVG(filename=\"test.svg\")"
     ],
     "language": "python",
     "metadata": {},
     "outputs": [],
     "prompt_number": 177
    }
   ],
   "metadata": {}
  }
 ]
}